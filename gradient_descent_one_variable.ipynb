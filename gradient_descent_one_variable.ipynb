{
 "cells": [
  {
   "cell_type": "markdown",
   "metadata": {},
   "source": [
    "# Gradient descent with one-variable\n"
   ]
  },
  {
   "cell_type": "code",
   "execution_count": 152,
   "metadata": {},
   "outputs": [],
   "source": [
    "import pandas as pd\n",
    "import numpy as np\n",
    "from matplotlib import pyplot as plt"
   ]
  },
  {
   "cell_type": "code",
   "execution_count": 153,
   "metadata": {},
   "outputs": [],
   "source": [
    "#df=pd.read_csv(\"data.csv\") # importing the file through the pandas"
   ]
  },
  {
   "cell_type": "code",
   "execution_count": 154,
   "metadata": {},
   "outputs": [],
   "source": [
    "def cost(x,y,m,b):\n",
    "    return ((y - m* x - b) ** 2).mean()\n",
    "    "
   ]
  },
  {
   "cell_type": "code",
   "execution_count": 155,
   "metadata": {},
   "outputs": [],
   "source": [
    "def step(x,y,learning_rate,m,b):\n",
    "    k=x.shape[0]\n",
    "    slope_m=0\n",
    "    slope_b=0\n",
    "    for i in range(k):\n",
    "            #for j in range(n):\n",
    "        slope_m += (2/k) * x[i] * (m * x[i] + b - y[i]) # for sophasticated we dnt do the += part , if the batch size=1 -sophas\n",
    "        slope_b += (2/k) * (m * x[i] + b - y[i])\n",
    "    new_m= m - learning_rate * slope_m\n",
    "    new_b= b - learning_rate * slope_b\n",
    "    return new_m,new_b"
   ]
  },
  {
   "cell_type": "code",
   "execution_count": 156,
   "metadata": {},
   "outputs": [],
   "source": [
    "#Gradient descent algorithm implementation\n",
    "def run(x,y,learning_rate,num_iter):\n",
    "    m=0\n",
    "    b=0\n",
    "    print(\"Start : \", cost(x, y, m, b))\n",
    "    for i in range(num_iter):\n",
    "        m,b = step(x, y, learning_rate, m, b)\n",
    "        print(i, \" : \", cost(x, y, m, b), \"m = \", m , \" b = \", b)\n",
    "    return m, b"
   ]
  },
  {
   "cell_type": "code",
   "execution_count": 157,
   "metadata": {},
   "outputs": [
    {
     "name": "stdout",
     "output_type": "stream",
     "text": [
      "Start :  5565.107834483214\n",
      "0  :  1484.5865574086492 m =  0.7370702973591052  b =  0.014547010110737297\n",
      "1  :  457.85425757376737 m =  1.1067954543515157  b =  0.02187396295959641\n",
      "2  :  199.50998572553885 m =  1.2922546649131115  b =  0.025579224321293136\n",
      "3  :  134.50591058200536 m =  1.385283255651245  b =  0.027467789559144355\n",
      "4  :  118.14969342239947 m =  1.4319472323843205  b =  0.028445071981738963\n",
      "5  :  114.03414906038151 m =  1.4553540088980408  b =  0.02896524076647862\n",
      "6  :  112.99857731713662 m =  1.4670946177201354  b =  0.0292561141260467\n",
      "7  :  112.73798187568465 m =  1.4729832982243762  b =  0.02943196916380713\n",
      "8  :  112.67238435909101 m =  1.4759365618962286  b =  0.029550129024383073\n",
      "9  :  112.65585181499749 m =  1.4774173755483797  b =  0.02963934787473239\n",
      "10  :  112.65166489759582 m =  1.4781595857319891  b =  0.029714049245227046\n",
      "11  :  112.65058436150107 m =  1.4785313011122556  b =  0.029781468199526522\n",
      "12  :  112.650285447015 m =  1.4787171706313593  b =  0.02984523395633242\n",
      "13  :  112.65018320293971 m =  1.4788098170256598  b =  0.02990716698731024\n",
      "14  :  112.65013044507197 m =  1.4788557012777626  b =  0.029968180468920396\n",
      "15  :  112.6500901392289 m =  1.4788781289278565  b =  0.0300287324644578\n",
      "16  :  112.65005296694633 m =  1.4788887903917065  b =  0.030089052745485803\n",
      "17  :  112.65001658353181 m =  1.4788935497608395  b =  0.030149256568940068\n",
      "18  :  112.64998039901867 m =  1.4788953485533445  b =  0.030209401749465813\n",
      "19  :  112.64994426496072 m =  1.478895662279729  b =  0.030269517287775917\n",
      "20  :  112.6499081440062 m =  1.4788952310786534  b =  0.030329617731073667\n",
      "21  :  112.64987202675678 m =  1.4788944262150017  b =  0.030389710376460655\n",
      "22  :  112.64983591084763 m =  1.4788934339209234  b =  0.030449798884276465\n",
      "23  :  112.64979979568365 m =  1.4788923476133158  b =  0.030509885090605173\n",
      "24  :  112.64976368111526 m =  1.4788912141515247  b =  0.030569969916456375\n",
      "25  :  112.64972756710463 m =  1.4788900570409158  b =  0.030630053823824287\n",
      "26  :  112.64969145364239 m =  1.4788888880721398  b =  0.030690137044453985\n",
      "27  :  112.64965534072611 m =  1.478887713159568  b =  0.030750219694594055\n",
      "28  :  112.64961922835515 m =  1.4788865352699392  b =  0.030810301832558274\n",
      "29  :  112.64958311652936 m =  1.4788853558914152  b =  0.03087038348759943\n",
      "30  :  112.64954700524872 m =  1.4788841757704807  b =  0.030930464674392876\n",
      "31  :  112.64951089451318 m =  1.4788829952815838  b =  0.030990545400301696\n",
      "32  :  112.64947478432279 m =  1.4788818146125533  b =  0.03105062566902104\n",
      "33  :  112.6494386746775 m =  1.478880633857607  b =  0.031110705482406145\n",
      "34  :  112.64940256557723 m =  1.4788794530640061  b =  0.031170784841389344\n",
      "35  :  112.64936645702214 m =  1.4788782722554572  b =  0.031230863746440008\n",
      "36  :  112.64933034901203 m =  1.478877091443852  b =  0.03129094219779529\n",
      "37  :  112.64929424154707 m =  1.4788759106351557  b =  0.031351020195575854\n",
      "38  :  112.6492581346271 m =  1.4788747298323603  b =  0.031411097739843935\n",
      "39  :  112.64922202825223 m =  1.4788735490369667  b =  0.03147117483063245\n",
      "40  :  112.64918592242239 m =  1.4788723682497276  b =  0.031531251467959626\n",
      "41  :  112.64914981713753 m =  1.4788711874710208  b =  0.0315913276518363\n",
      "42  :  112.64911371239778 m =  1.4788700067010354  b =  0.03165140338226963\n",
      "43  :  112.64907760820297 m =  1.4788688259398666  b =  0.031711478659264894\n",
      "44  :  112.64904150455322 m =  1.478867645187562  b =  0.03177155348282646\n",
      "45  :  112.64900540144845 m =  1.4788664644441452  b =  0.03183162785295821\n",
      "46  :  112.64896929888866 m =  1.4788652837096283  b =  0.03189170176966381\n",
      "47  :  112.64893319687388 m =  1.4788641029840173  b =  0.0319517752329468\n",
      "48  :  112.64889709540404 m =  1.478862922267315  b =  0.03201184824281067\n",
      "49  :  112.64886099447922 m =  1.4788617415595229  b =  0.03207192079925886\n",
      "50  :  112.64882489409932 m =  1.4788605608606418  b =  0.032131992902294806\n",
      "51  :  112.64878879426438 m =  1.478859380170672  b =  0.032192064551921945\n",
      "52  :  112.64875269497435 m =  1.4788581994896135  b =  0.032252135748143694\n",
      "53  :  112.64871659622932 m =  1.4788570188174663  b =  0.03231220649096349\n",
      "54  :  112.64868049802917 m =  1.4788558381542305  b =  0.03237227678038474\n",
      "55  :  112.64864440037394 m =  1.478854657499906  b =  0.03243234661641088\n",
      "56  :  112.64860830326363 m =  1.4788534768544928  b =  0.03249241599904533\n",
      "57  :  112.6485722066982 m =  1.4788522962179906  b =  0.032552484928291506\n",
      "58  :  112.64853611067774 m =  1.4788511155903998  b =  0.03261255340415284\n",
      "59  :  112.6485000152021 m =  1.4788499349717201  b =  0.03267262142663274\n",
      "60  :  112.64846392027135 m =  1.4788487543619513  b =  0.03273268899573464\n",
      "61  :  112.64842782588546 m =  1.4788475737610933  b =  0.032792756111461964\n",
      "62  :  112.64839173204442 m =  1.4788463931691462  b =  0.032852822773818124\n",
      "63  :  112.64835563874827 m =  1.47884521258611  b =  0.032912888982806546\n",
      "64  :  112.64831954599691 m =  1.4788440320119847  b =  0.032972954738430656\n",
      "65  :  112.64828345379041 m =  1.47884285144677  b =  0.03303302004069387\n",
      "66  :  112.64824736212877 m =  1.4788416708904657  b =  0.03309308488959961\n",
      "67  :  112.64821127101193 m =  1.478840490343072  b =  0.033153149285151305\n",
      "68  :  112.64817518043985 m =  1.4788393098045889  b =  0.033213213227352364\n",
      "69  :  112.64813909041263 m =  1.4788381292750161  b =  0.033273276716206224\n",
      "70  :  112.6481030009302 m =  1.4788369487543538  b =  0.0333333397517163\n",
      "71  :  112.64806691199257 m =  1.4788357682426014  b =  0.033393402333886005\n",
      "72  :  112.64803082359965 m =  1.4788345877397595  b =  0.033453464462718775\n",
      "73  :  112.64799473575157 m =  1.4788334072458276  b =  0.03351352613821802\n",
      "74  :  112.64795864844822 m =  1.4788322267608058  b =  0.03357358736038717\n",
      "75  :  112.64792256168965 m =  1.478831046284694  b =  0.03363364812922964\n",
      "76  :  112.64788647547579 m =  1.4788298658174923  b =  0.03369370844474886\n",
      "77  :  112.64785038980666 m =  1.4788286853592003  b =  0.03375376830694824\n",
      "78  :  112.6478143046823 m =  1.478827504909818  b =  0.03381382771583121\n",
      "79  :  112.64777822010265 m =  1.4788263244693456  b =  0.03387388667140119\n",
      "80  :  112.64774213606773 m =  1.4788251440377829  b =  0.033933945173661606\n",
      "81  :  112.64770605257743 m =  1.4788239636151297  b =  0.03399400322261587\n",
      "82  :  112.64766996963189 m =  1.478822783201386  b =  0.03405406081826741\n",
      "83  :  112.64763388723104 m =  1.4788216027965517  b =  0.034114117960619646\n",
      "84  :  112.64759780537486 m =  1.478820422400627  b =  0.034174174649676\n",
      "85  :  112.64756172406334 m =  1.4788192420136113  b =  0.03423423088543989\n",
      "86  :  112.64752564329652 m =  1.478818061635505  b =  0.034294286667914745\n",
      "87  :  112.6474895630743 m =  1.478816881266308  b =  0.03435434199710398\n",
      "88  :  112.64745348339676 m =  1.47881570090602  b =  0.03441439687301101\n",
      "89  :  112.64741740426388 m =  1.4788145205546412  b =  0.034474451295639266\n",
      "90  :  112.6473813256756 m =  1.4788133402121713  b =  0.03453450526499217\n",
      "91  :  112.64734524763193 m =  1.4788121598786104  b =  0.034594558781073134\n",
      "92  :  112.6473091701329 m =  1.4788109795539583  b =  0.03465461184388559\n",
      "93  :  112.64727309317844 m =  1.478809799238215  b =  0.03471466445343295\n",
      "94  :  112.64723701676857 m =  1.4788086189313803  b =  0.03477471660971864\n",
      "95  :  112.64720094090333 m =  1.4788074386334544  b =  0.03483476831274608\n",
      "96  :  112.64716486558272 m =  1.478806258344437  b =  0.03489481956251869\n",
      "97  :  112.6471287908066 m =  1.478805078064328  b =  0.0349548703590399\n",
      "98  :  112.64709271657507 m =  1.4788038977931277  b =  0.03501492070231312\n",
      "99  :  112.64705664288807 m =  1.4788027175308358  b =  0.03507497059234178\n"
     ]
    }
   ],
   "source": [
    "    points = np.loadtxt(open(\"data.csv\", \"rb\"), delimiter = \",\")\n",
    "    x = points[:, 0]\n",
    "    y = points[:, 1]\n",
    "    learning_rate = 0.0001\n",
    "    num_iter = 100\n",
    "    m,b = run(x, y, learning_rate, num_iter)\n",
    "    "
   ]
  },
  {
   "cell_type": "code",
   "execution_count": 158,
   "metadata": {},
   "outputs": [],
   "source": [
    "y_pred=m*x+b"
   ]
  },
  {
   "cell_type": "code",
   "execution_count": 159,
   "metadata": {},
   "outputs": [
    {
     "data": {
      "text/plain": [
       "(100,)"
      ]
     },
     "execution_count": 159,
     "metadata": {},
     "output_type": "execute_result"
    }
   ],
   "source": [
    "y_pred.shape"
   ]
  },
  {
   "cell_type": "code",
   "execution_count": 163,
   "metadata": {},
   "outputs": [
    {
     "data": {
      "text/plain": [
       "<matplotlib.collections.PathCollection at 0x7fe424bbba90>"
      ]
     },
     "execution_count": 163,
     "metadata": {},
     "output_type": "execute_result"
    },
    {
     "data": {
      "image/png": "[encoded data removed]",
      "text/plain": [
       "<Figure size 432x288 with 1 Axes>"
      ]
     },
     "metadata": {
      "needs_background": "light"
     },
     "output_type": "display_data"
    }
   ],
   "source": [
    "plt.scatter(x,y)\n",
    "plt.scatter(x,y_pred)"
   ]
  },
  {
   "cell_type": "code",
   "execution_count": 164,
   "metadata": {},
   "outputs": [],
   "source": [
    "# conclusion\n",
    "# seems like the data is well fitted, still we can try with the regulariszation ;)"
   ]
  },
  {
   "cell_type": "markdown",
   "metadata": {},
   "source": [
    "# By Using Matrix Calculation  "
   ]
  },
  {
   "cell_type": "code",
   "execution_count": 10,
   "metadata": {},
   "outputs": [],
   "source": [
    "# after minimizing the cost function we get the m and b values for the y_predict "
   ]
  },
  {
   "cell_type": "code",
   "execution_count": 67,
   "metadata": {},
   "outputs": [
    {
     "data": {
      "text/plain": [
       "(100,)"
      ]
     },
     "execution_count": 67,
     "metadata": {},
     "output_type": "execute_result"
    }
   ],
   "source": [
    "x.shape"
   ]
  },
  {
   "cell_type": "code",
   "execution_count": 76,
   "metadata": {},
   "outputs": [],
   "source": [
    "x0=np.ones((100,1))\n",
    "#x0"
   ]
  },
  {
   "cell_type": "code",
   "execution_count": 77,
   "metadata": {},
   "outputs": [],
   "source": [
    "x_b=np.c_[x0,x]"
   ]
  },
  {
   "cell_type": "code",
   "execution_count": 78,
   "metadata": {},
   "outputs": [
    {
     "data": {
      "text/plain": [
       "(100, 2)"
      ]
     },
     "execution_count": 78,
     "metadata": {},
     "output_type": "execute_result"
    }
   ],
   "source": [
    "x_b.shape"
   ]
  },
  {
   "cell_type": "code",
   "execution_count": 85,
   "metadata": {},
   "outputs": [
    {
     "data": {
      "text/plain": [
       "100"
      ]
     },
     "execution_count": 85,
     "metadata": {},
     "output_type": "execute_result"
    }
   ],
   "source": [
    "x_b.shape[1]\n",
    "k=x.shape[0]\n",
    "k"
   ]
  },
  {
   "cell_type": "code",
   "execution_count": 98,
   "metadata": {},
   "outputs": [
    {
     "name": "stdout",
     "output_type": "stream",
     "text": [
      "(2, 1)\n"
     ]
    }
   ],
   "source": [
    "x_b.shape\n",
    "y.shape\n",
    "theta=np.random.randn(x_b.shape[1],1)\n",
    "print(theta.shape)"
   ]
  },
  {
   "cell_type": "code",
   "execution_count": 139,
   "metadata": {},
   "outputs": [],
   "source": [
    "theta=np.array([0,0])"
   ]
  },
  {
   "cell_type": "code",
   "execution_count": 143,
   "metadata": {},
   "outputs": [
    {
     "data": {
      "text/plain": [
       "(2, 1)"
      ]
     },
     "execution_count": 143,
     "metadata": {},
     "output_type": "execute_result"
    }
   ],
   "source": [
    "theta=theta.reshape(-1,1)\n",
    "theta.shape"
   ]
  },
  {
   "cell_type": "code",
   "execution_count": null,
   "metadata": {},
   "outputs": [],
   "source": [
    "# we can try theta to be randomn as well as zero as the initial value :)"
   ]
  },
  {
   "cell_type": "code",
   "execution_count": 99,
   "metadata": {},
   "outputs": [],
   "source": [
    "y=y.reshape(-1,1)"
   ]
  },
  {
   "cell_type": "code",
   "execution_count": 150,
   "metadata": {},
   "outputs": [],
   "source": [
    "\n",
    "    n=102\n",
    "    l=0.0001\n",
    "    k=x_b.shape[0]\n",
    "    theta=np.array([0,0])\n",
    "    theta=theta.reshape(-1,1)\n",
    "    for i in range(n):\n",
    "        grad=2/k*x_b.T.dot(x_b.dot(theta)-y)\n",
    "        theta=theta-l*grad\n",
    "    "
   ]
  },
  {
   "cell_type": "code",
   "execution_count": 151,
   "metadata": {},
   "outputs": [
    {
     "data": {
      "text/plain": [
       "array([[0.03519507],\n",
       "       [1.47880036]])"
      ]
     },
     "execution_count": 151,
     "metadata": {},
     "output_type": "execute_result"
    }
   ],
   "source": [
    "theta"
   ]
  },
  {
   "cell_type": "code",
   "execution_count": 165,
   "metadata": {},
   "outputs": [],
   "source": [
    "y_pred2=x_b.dot(theta)"
   ]
  },
  {
   "cell_type": "code",
   "execution_count": 166,
   "metadata": {},
   "outputs": [
    {
     "data": {
      "text/plain": [
       "(100, 1)"
      ]
     },
     "execution_count": 166,
     "metadata": {},
     "output_type": "execute_result"
    }
   ],
   "source": [
    "y_pred2.shape"
   ]
  },
  {
   "cell_type": "code",
   "execution_count": null,
   "metadata": {},
   "outputs": [],
   "source": []
  }
 ],
 "metadata": {
  "kernelspec": {
   "display_name": "Python 3",
   "language": "python",
   "name": "python3"
  },
  "language_info": {
   "codemirror_mode": {
    "name": "ipython",
    "version": 3
   },
   "file_extension": ".py",
   "mimetype": "text/x-python",
   "name": "python",
   "nbconvert_exporter": "python",
   "pygments_lexer": "ipython3",
   "version": "3.5.2"
  }
 },
 "nbformat": 4,
 "nbformat_minor": 2
}
