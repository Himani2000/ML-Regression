{
  "nbformat": 4,
  "nbformat_minor": 0,
  "metadata": {
    "colab": {
      "name": "Tensorflow.ipynb",
      "version": "0.3.2",
      "provenance": [],
      "collapsed_sections": []
    },
    "kernelspec": {
      "name": "python3",
      "display_name": "Python 3"
    },
    "accelerator": "GPU"
  },
  "cells": [
    {
      "metadata": {
        "id": "FIjGcwJKLZeN",
        "colab_type": "code",
        "colab": {}
      },
      "cell_type": "code",
      "source": [
        "# quick tutorial to tensorflow "
      ],
      "execution_count": 0,
      "outputs": []
    },
    {
      "metadata": {
        "id": "CGDuM_dVcTia",
        "colab_type": "code",
        "colab": {}
      },
      "cell_type": "code",
      "source": [
        "import tensorflow as tf\n",
        "import numpy as np"
      ],
      "execution_count": 0,
      "outputs": []
    },
    {
      "metadata": {
        "id": "fenGwlZz4e7k",
        "colab_type": "text"
      },
      "cell_type": "markdown",
      "source": [
        ""
      ]
    },
    {
      "metadata": {
        "id": "tRLLdXwoFmAT",
        "colab_type": "code",
        "outputId": "7de7dcc3-7ece-4be5-edca-3d1914aa49f2",
        "colab": {
          "base_uri": "https://localhost:8080/",
          "height": 34
        }
      },
      "cell_type": "code",
      "source": [
        "#This is the construction phase , where we make the node of the graph and run it using the session.\n",
        "a=tf.constant(5)\n",
        "b=tf.constant(6)\n",
        "c=a+b\n",
        "c"
      ],
      "execution_count": 0,
      "outputs": [
        {
          "output_type": "execute_result",
          "data": {
            "text/plain": [
              "<tf.Tensor 'add_1:0' shape=() dtype=int32>"
            ]
          },
          "metadata": {
            "tags": []
          },
          "execution_count": 4
        }
      ]
    },
    {
      "metadata": {
        "id": "Uw4mGKnBFrEp",
        "colab_type": "code",
        "colab": {}
      },
      "cell_type": "code",
      "source": [
        "#execution phase \n",
        "sess=tf.Session()"
      ],
      "execution_count": 0,
      "outputs": []
    },
    {
      "metadata": {
        "id": "3hBSUmEiFrLT",
        "colab_type": "code",
        "outputId": "386a4a06-a121-4bbd-a1c7-dcf52bc90e38",
        "colab": {
          "base_uri": "https://localhost:8080/",
          "height": 34
        }
      },
      "cell_type": "code",
      "source": [
        "sess.run(c)"
      ],
      "execution_count": 0,
      "outputs": [
        {
          "output_type": "execute_result",
          "data": {
            "text/plain": [
              "11"
            ]
          },
          "metadata": {
            "tags": []
          },
          "execution_count": 9
        }
      ]
    },
    {
      "metadata": {
        "id": "NhkhovpOFrQO",
        "colab_type": "code",
        "outputId": "85a20e39-54a3-45d7-a384-f5b1e949cf16",
        "colab": {
          "base_uri": "https://localhost:8080/",
          "height": 34
        }
      },
      "cell_type": "code",
      "source": [
        "# for the matrix calculations \n",
        "d=tf.constant([[2,1]])\n",
        "e=tf.constant([[3],[4]])\n",
        "res=tf.matmul(d,e)\n",
        "sess.run(res)"
      ],
      "execution_count": 0,
      "outputs": [
        {
          "output_type": "execute_result",
          "data": {
            "text/plain": [
              "array([[10]], dtype=int32)"
            ]
          },
          "metadata": {
            "tags": []
          },
          "execution_count": 14
        }
      ]
    },
    {
      "metadata": {
        "id": "L2wVRRymFrUA",
        "colab_type": "code",
        "outputId": "dfcb231d-a6b1-41de-a75a-b23b0d48f601",
        "colab": {
          "base_uri": "https://localhost:8080/",
          "height": 34
        }
      },
      "cell_type": "code",
      "source": [
        "# a better approach -- using the session in the block \n",
        "a=tf.constant(5)\n",
        "b=tf.constant(6)\n",
        "c=a+b\n",
        "with tf.Session() as sesss:\n",
        "  print(c.eval())"
      ],
      "execution_count": 0,
      "outputs": [
        {
          "output_type": "stream",
          "text": [
            "11\n"
          ],
          "name": "stdout"
        }
      ]
    },
    {
      "metadata": {
        "id": "5Nq-iDfRIG_K",
        "colab_type": "code",
        "outputId": "f570731b-b05b-4cd2-fc48-ef6ccc54bbba",
        "colab": {
          "base_uri": "https://localhost:8080/",
          "height": 34
        }
      },
      "cell_type": "code",
      "source": [
        "# working with the variables \n",
        "d=tf.Variable(5)\n",
        "e=tf.Variable(6)\n",
        "p=tf.add(d,e)\n",
        "sess.run(tf.global_variables_initializer()) # we need to initialise the variable before using them \n",
        "sess.run(p)"
      ],
      "execution_count": 0,
      "outputs": [
        {
          "output_type": "execute_result",
          "data": {
            "text/plain": [
              "11"
            ]
          },
          "metadata": {
            "tags": []
          },
          "execution_count": 17
        }
      ]
    },
    {
      "metadata": {
        "id": "NFrrgQKQIMBM",
        "colab_type": "code",
        "outputId": "74c48c2b-91c4-4f7b-b019-e42fe12d5cce",
        "colab": {
          "base_uri": "https://localhost:8080/",
          "height": 34
        }
      },
      "cell_type": "code",
      "source": [
        "# placeholders !! - suppose we are using the variable say x whose value we will be passing when we run the session object\n",
        "x=tf.placeholder(tf.int32)\n",
        "y=tf.Variable(5)*x\n",
        "sess.run(tf.global_variables_initializer())\n",
        "sess.run(y,feed_dict={x:[[5,4]]})\n"
      ],
      "execution_count": 0,
      "outputs": [
        {
          "output_type": "execute_result",
          "data": {
            "text/plain": [
              "array([[25, 20]], dtype=int32)"
            ]
          },
          "metadata": {
            "tags": []
          },
          "execution_count": 24
        }
      ]
    },
    {
      "metadata": {
        "id": "D4l2gXUoIUzL",
        "colab_type": "code",
        "colab": {}
      },
      "cell_type": "code",
      "source": [
        "# thanks !!"
      ],
      "execution_count": 0,
      "outputs": []
    }
  ]
}