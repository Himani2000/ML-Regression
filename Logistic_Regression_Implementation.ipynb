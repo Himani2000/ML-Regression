{
 "cells": [
  {
   "cell_type": "code",
   "execution_count": 7,
   "metadata": {},
   "outputs": [],
   "source": [
    "#import sklearn \n",
    "from sklearn.linear_model import LogisticRegression\n",
    "import  numpy as np\n",
    "import pandas as pd\n",
    "from matplotlib import pyplot as plt"
   ]
  },
  {
   "cell_type": "code",
   "execution_count": 4,
   "metadata": {},
   "outputs": [],
   "source": [
    "#Creating the data of binary labels for the logistic regression binary classifier "
   ]
  },
  {
   "cell_type": "code",
   "execution_count": 9,
   "metadata": {},
   "outputs": [],
   "source": [
    "x_0 = np.array([[1,7],[1,8],[2,7],[2,9],[1.5,8],[1.7, 7.5],[2.5,9],[3, 7]])\n",
    "x_1 = np.array([[5, 2],[6,3],[5.8,2.9],[7,1],[8,4],[7,3],[9,2.5],[7,3.5],[5,8]])"
   ]
  },
  {
   "cell_type": "code",
   "execution_count": 10,
   "metadata": {},
   "outputs": [],
   "source": [
    "x_0_x1 = x_0[:,0]\n",
    "x_0_x2 = x_0[:, 1]\n",
    "x_1_x1 = x_1[:,0]\n",
    "x_1_x2 = x_1[:, 1]"
   ]
  },
  {
   "cell_type": "code",
   "execution_count": 11,
   "metadata": {},
   "outputs": [
    {
     "data": {
      "image/png": "[encoded data removed]",
      "text/plain": [
       "<Figure size 432x288 with 1 Axes>"
      ]
     },
     "metadata": {
      "needs_background": "light"
     },
     "output_type": "display_data"
    }
   ],
   "source": [
    "plt.scatter(x_0_x1, x_0_x2, Color = 'g', marker = 'o')\n",
    "plt.scatter(x_1_x1, x_1_x2, Color = 'b', marker = '^')\n",
    "plt.show()"
   ]
  },
  {
   "cell_type": "code",
   "execution_count": 142,
   "metadata": {},
   "outputs": [
    {
     "data": {
      "text/plain": [
       "((17, 2), (17,))"
      ]
     },
     "execution_count": 142,
     "metadata": {},
     "output_type": "execute_result"
    }
   ],
   "source": [
    "X = np.append(x_0,x_1, axis = 0)\n",
    "y = np.append(np.zeros(x_0.shape[0]), np.ones(x_1.shape[0]))\n",
    "X.shape,y.shape"
   ]
  },
  {
   "cell_type": "code",
   "execution_count": 93,
   "metadata": {},
   "outputs": [],
   "source": [
    "# cool we have created the data by now \n",
    "# now time to implement the logistic regression class :)"
   ]
  },
  {
   "cell_type": "code",
   "execution_count": 127,
   "metadata": {},
   "outputs": [],
   "source": [
    "class logisticregression:\n",
    "    def __init__(self,lr=0.001,num_iter=100):\n",
    "        self.lr=lr\n",
    "        self.num_iter = num_iter\n",
    "    def x_add(self,X):\n",
    "        x_b=np.c_[np.ones((X.shape[0], 1)),X]\n",
    "        return x_b\n",
    "    def sigmoid(self, z):\n",
    "        return 1 / (1 + np.exp(-z))\n",
    "        \n",
    "    def cost(self, h, y):\n",
    "        return (-y * np.log(h) - (1 - y) * np.log(1 - h)).mean()\n",
    "   \n",
    "    def fit(self,X,y):\n",
    "        #making the X\n",
    "        X=self.x_add(X)\n",
    "        # initialising the weights random or with zero \n",
    "        self.theta=np.zeros((X.shape[1],1))\n",
    "        for i in range(self.num_iter):\n",
    "            z=np.dot(X,self.theta)\n",
    "            h = self.sigmoid(z)\n",
    "            gradient = np.dot(X.T, (h - y)) / y.size\n",
    "            self.theta=self.theta-self.lr * gradient\n",
    "           # print(i,\" cost \",self.cost(h,y))\n",
    "      \n",
    "    def predict_prob(self, X):\n",
    "        X = self.x_add(X)\n",
    "        return self.sigmoid(np.dot(X, self.theta))\n",
    "    \n",
    "    def predict(self, X, threshold=0.5):\n",
    "        return self.predict_prob(X) >= threshold"
   ]
  },
  {
   "cell_type": "code",
   "execution_count": 149,
   "metadata": {},
   "outputs": [
    {
     "data": {
      "text/plain": [
       "((12, 2), (5, 2), (12, 1), (5, 1))"
      ]
     },
     "execution_count": 149,
     "metadata": {},
     "output_type": "execute_result"
    }
   ],
   "source": [
    "from sklearn.model_selection import train_test_split\n",
    "x_train,x_test,y_train,y_test=train_test_split(X,y)\n",
    "x_train.shape,y_train.shape,x_test.shape,y_test.shape\n",
    "y_train=y_train.reshape(-1,1)\n",
    "y_test=y_test.reshape(-1,1)\n",
    "x_train.shape,x_test.shape,y_train.shape,y_test.shape"
   ]
  },
  {
   "cell_type": "code",
   "execution_count": 150,
   "metadata": {},
   "outputs": [],
   "source": [
    "l=logisticregression()\n",
    "l.fit(x_train,y_train)\n",
    "y_pred=l.predict(x_test)\n",
    "        "
   ]
  },
  {
   "cell_type": "code",
   "execution_count": 151,
   "metadata": {},
   "outputs": [
    {
     "data": {
      "text/plain": [
       "1.0"
      ]
     },
     "execution_count": 151,
     "metadata": {},
     "output_type": "execute_result"
    }
   ],
   "source": [
    "(y_pred==y_test).mean() # approx "
   ]
  },
  {
   "cell_type": "code",
   "execution_count": 164,
   "metadata": {},
   "outputs": [],
   "source": [
    "# the things i will upload soon is --\n",
    "# The code with the good dataset \n",
    "# The multinomial logistic regression implementation :) "
   ]
  },
  {
   "cell_type": "code",
   "execution_count": null,
   "metadata": {},
   "outputs": [],
   "source": []
  }
 ],
 "metadata": {
  "kernelspec": {
   "display_name": "Python 3",
   "language": "python",
   "name": "python3"
  },
  "language_info": {
   "codemirror_mode": {
    "name": "ipython",
    "version": 3
   },
   "file_extension": ".py",
   "mimetype": "text/x-python",
   "name": "python",
   "nbconvert_exporter": "python",
   "pygments_lexer": "ipython3",
   "version": "3.5.2"
  }
 },
 "nbformat": 4,
 "nbformat_minor": 2
}
